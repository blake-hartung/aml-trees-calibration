{
 "cells": [
  {
   "cell_type": "markdown",
   "metadata": {
    "id": "4nHSeYSEQclq"
   },
   "source": [
    "### Trees and Calibration"
   ]
  },
  {
   "cell_type": "markdown",
   "metadata": {
    "id": "YnGgRAIRwMlI"
   },
   "source": [
    "bdh2141"
   ]
  },
  {
   "cell_type": "markdown",
   "metadata": {
    "id": "bbOG2REfo0bh"
   },
   "source": [
    "## The Dataset\n",
    "Credit ([Link](https://www.kaggle.com/gamersclub/brazilian-csgo-plataform-dataset-by-gamers-club?select=tb_lobby_stats_player.csv) | [License](https://creativecommons.org/licenses/by-nc-sa/4.0/))\n",
    "\n",
    "### CS:GO Data\n",
    "\n",
    "### Features\n",
    "\n",
    "idLobbyGame - Categorical (The Lobby ID for the game)\n",
    "\n",
    "idPlayer - Categorical (The ID of the player)\n",
    "\n",
    "idRooom - Categorical (The ID of the room)\n",
    "\n",
    "qtKill - Numerical (Number of kills)\n",
    "\n",
    "qtAssist - Numerical (Number of Assists)\n",
    "\n",
    "qtDeath - Numerical (Number of Deaths)\n",
    "\n",
    "qtHs - Numerical (Number of kills by head shot)\n",
    "\n",
    "qtBombeDefuse - Numerical (Number of Bombs Defuses)\n",
    "\n",
    "qtBombePlant - Numerical (Number of Bomb plants)\n",
    "\n",
    "qtTk - Numerical (Number of Team kills)\n",
    "\n",
    "qtTkAssist - Numerical Number of team kills assists)\n",
    "\n",
    "qt1Kill - Numerical (Number of rounds with one kill)\n",
    "\n",
    "qt2Kill - Numerical (Number of rounds with two kill)\n",
    "\n",
    "qt3Kill - Numerical (Number of rounds with three kill)\n",
    "\n",
    "qt4Kill - Numerical (Number of rounds with four kill)\n",
    "\n",
    "qt5Kill - Numerical (Number of rounds with five kill)\n",
    "\n",
    "qtPlusKill - Numerical (Number of rounds with more than one kill)\n",
    "\n",
    "qtFirstKill - Numerical (Number of rounds with first kill)\n",
    "\n",
    "vlDamage - Numerical (Total match Damage)\n",
    "\n",
    "qtHits - Numerical (Total match hits)\n",
    "\n",
    "qtShots - Numerical (Total match shots)\n",
    "\n",
    "qtLastAlive - Numerical (Number of rounds being last alive)\n",
    "\n",
    "qtClutchWon - Numerical (Number of total clutchs wons)\n",
    "\n",
    "qtRoundsPlayed - Numerical (Number of total Rounds Played)\n",
    "\n",
    "descMapName - Categorical (Map Name - de_mirage, de_inferno, de_dust2, de_vertigo, de_overpass, de_nuke, de_train, de_ancient)\n",
    "\n",
    "vlLevel - Numerical (GC Level)\n",
    "\n",
    "qtSurvived - Numerical (Number of rounds survived)\n",
    "\n",
    "qtTrade - Numerical (Number of trade kills)\n",
    "\n",
    "qtFlashAssist - Numerical (Number of flashbang assists)\n",
    "\n",
    "qtHitHeadshot - Numerical (Number of times the player hit headshot\n",
    "\n",
    "qtHitChest - Numerical (Number of times the player hit chest)\n",
    "\n",
    "qtHitStomach - Numerical (Number of times the player hit stomach)\n",
    "\n",
    "qtHitLeftAtm - Numerical (Number of times the player hit left arm)\n",
    "\n",
    "qtHitRightArm - Numerical (Number of times the player hit right arm)\n",
    "\n",
    "qtHitLeftLeg - Numerical (Number of times the player hit left leg)\n",
    "\n",
    "qtHitRightLeg - Numerical (Number of times the player hit right leg)\n",
    "\n",
    "flWinner - Winner Flag (**Target Variable**).\n",
    "\n",
    "dtCreatedAt - Date at which this current row was added. (Date)\n"
   ]
  },
  {
   "cell_type": "markdown",
   "metadata": {
    "id": "SCEJZC5bFjin"
   },
   "source": [
    "**Load the dataset**"
   ]
  },
  {
   "cell_type": "code",
   "execution_count": 1,
   "metadata": {
    "id": "t7_jJvfqk5Qx"
   },
   "outputs": [],
   "source": [
    "import pandas as pd\n",
    "import numpy as np\n",
    "import matplotlib.pyplot as plt\n",
    "%matplotlib inline\n",
    "\n",
    "df = pd.read_csv('tb_lobby_stats_player.csv.zip')"
   ]
  },
  {
   "cell_type": "code",
   "execution_count": 2,
   "metadata": {
    "id": "t7_jJvfqk5Qx"
   },
   "outputs": [
    {
     "data": {
      "text/html": [
       "<div>\n",
       "<style scoped>\n",
       "    .dataframe tbody tr th:only-of-type {\n",
       "        vertical-align: middle;\n",
       "    }\n",
       "\n",
       "    .dataframe tbody tr th {\n",
       "        vertical-align: top;\n",
       "    }\n",
       "\n",
       "    .dataframe thead th {\n",
       "        text-align: right;\n",
       "    }\n",
       "</style>\n",
       "<table border=\"1\" class=\"dataframe\">\n",
       "  <thead>\n",
       "    <tr style=\"text-align: right;\">\n",
       "      <th></th>\n",
       "      <th>idLobbyGame</th>\n",
       "      <th>idPlayer</th>\n",
       "      <th>idRoom</th>\n",
       "      <th>qtKill</th>\n",
       "      <th>qtAssist</th>\n",
       "      <th>qtDeath</th>\n",
       "      <th>qtHs</th>\n",
       "      <th>qtBombeDefuse</th>\n",
       "      <th>qtBombePlant</th>\n",
       "      <th>qtTk</th>\n",
       "      <th>...</th>\n",
       "      <th>qtFlashAssist</th>\n",
       "      <th>qtHitHeadshot</th>\n",
       "      <th>qtHitChest</th>\n",
       "      <th>qtHitStomach</th>\n",
       "      <th>qtHitLeftAtm</th>\n",
       "      <th>qtHitRightArm</th>\n",
       "      <th>qtHitLeftLeg</th>\n",
       "      <th>qtHitRightLeg</th>\n",
       "      <th>flWinner</th>\n",
       "      <th>dtCreatedAt</th>\n",
       "    </tr>\n",
       "  </thead>\n",
       "  <tbody>\n",
       "    <tr>\n",
       "      <th>0</th>\n",
       "      <td>1</td>\n",
       "      <td>1</td>\n",
       "      <td>1</td>\n",
       "      <td>5</td>\n",
       "      <td>1</td>\n",
       "      <td>16</td>\n",
       "      <td>2</td>\n",
       "      <td>0</td>\n",
       "      <td>0</td>\n",
       "      <td>0.0</td>\n",
       "      <td>...</td>\n",
       "      <td>0.0</td>\n",
       "      <td>3.0</td>\n",
       "      <td>13.0</td>\n",
       "      <td>4.0</td>\n",
       "      <td>2.0</td>\n",
       "      <td>2.0</td>\n",
       "      <td>1.0</td>\n",
       "      <td>0.0</td>\n",
       "      <td>0</td>\n",
       "      <td>2022-01-21 19:45:44</td>\n",
       "    </tr>\n",
       "    <tr>\n",
       "      <th>1</th>\n",
       "      <td>2</td>\n",
       "      <td>1</td>\n",
       "      <td>2</td>\n",
       "      <td>24</td>\n",
       "      <td>3</td>\n",
       "      <td>18</td>\n",
       "      <td>6</td>\n",
       "      <td>0</td>\n",
       "      <td>4</td>\n",
       "      <td>0.0</td>\n",
       "      <td>...</td>\n",
       "      <td>0.0</td>\n",
       "      <td>7.0</td>\n",
       "      <td>26.0</td>\n",
       "      <td>14.0</td>\n",
       "      <td>2.0</td>\n",
       "      <td>1.0</td>\n",
       "      <td>1.0</td>\n",
       "      <td>3.0</td>\n",
       "      <td>1</td>\n",
       "      <td>2022-02-04 02:09:47</td>\n",
       "    </tr>\n",
       "    <tr>\n",
       "      <th>2</th>\n",
       "      <td>3</td>\n",
       "      <td>2</td>\n",
       "      <td>3</td>\n",
       "      <td>6</td>\n",
       "      <td>4</td>\n",
       "      <td>23</td>\n",
       "      <td>2</td>\n",
       "      <td>0</td>\n",
       "      <td>1</td>\n",
       "      <td>0.0</td>\n",
       "      <td>...</td>\n",
       "      <td>0.0</td>\n",
       "      <td>3.0</td>\n",
       "      <td>15.0</td>\n",
       "      <td>8.0</td>\n",
       "      <td>1.0</td>\n",
       "      <td>2.0</td>\n",
       "      <td>0.0</td>\n",
       "      <td>2.0</td>\n",
       "      <td>0</td>\n",
       "      <td>2021-09-18 18:07:43</td>\n",
       "    </tr>\n",
       "    <tr>\n",
       "      <th>3</th>\n",
       "      <td>3</td>\n",
       "      <td>391</td>\n",
       "      <td>27508</td>\n",
       "      <td>10</td>\n",
       "      <td>5</td>\n",
       "      <td>20</td>\n",
       "      <td>4</td>\n",
       "      <td>1</td>\n",
       "      <td>0</td>\n",
       "      <td>0.0</td>\n",
       "      <td>...</td>\n",
       "      <td>0.0</td>\n",
       "      <td>6.0</td>\n",
       "      <td>27.0</td>\n",
       "      <td>10.0</td>\n",
       "      <td>1.0</td>\n",
       "      <td>7.0</td>\n",
       "      <td>6.0</td>\n",
       "      <td>6.0</td>\n",
       "      <td>1</td>\n",
       "      <td>2021-09-18 18:07:43</td>\n",
       "    </tr>\n",
       "    <tr>\n",
       "      <th>4</th>\n",
       "      <td>4</td>\n",
       "      <td>2</td>\n",
       "      <td>4</td>\n",
       "      <td>8</td>\n",
       "      <td>4</td>\n",
       "      <td>26</td>\n",
       "      <td>6</td>\n",
       "      <td>0</td>\n",
       "      <td>2</td>\n",
       "      <td>0.0</td>\n",
       "      <td>...</td>\n",
       "      <td>2.0</td>\n",
       "      <td>8.0</td>\n",
       "      <td>19.0</td>\n",
       "      <td>12.0</td>\n",
       "      <td>2.0</td>\n",
       "      <td>3.0</td>\n",
       "      <td>2.0</td>\n",
       "      <td>5.0</td>\n",
       "      <td>0</td>\n",
       "      <td>2021-09-27 00:17:45</td>\n",
       "    </tr>\n",
       "  </tbody>\n",
       "</table>\n",
       "<p>5 rows × 38 columns</p>\n",
       "</div>"
      ],
      "text/plain": [
       "   idLobbyGame  idPlayer  idRoom  qtKill  qtAssist  qtDeath  qtHs  \\\n",
       "0            1         1       1       5         1       16     2   \n",
       "1            2         1       2      24         3       18     6   \n",
       "2            3         2       3       6         4       23     2   \n",
       "3            3       391   27508      10         5       20     4   \n",
       "4            4         2       4       8         4       26     6   \n",
       "\n",
       "   qtBombeDefuse  qtBombePlant  qtTk  ...  qtFlashAssist  qtHitHeadshot  \\\n",
       "0              0             0   0.0  ...            0.0            3.0   \n",
       "1              0             4   0.0  ...            0.0            7.0   \n",
       "2              0             1   0.0  ...            0.0            3.0   \n",
       "3              1             0   0.0  ...            0.0            6.0   \n",
       "4              0             2   0.0  ...            2.0            8.0   \n",
       "\n",
       "   qtHitChest  qtHitStomach  qtHitLeftAtm  qtHitRightArm  qtHitLeftLeg  \\\n",
       "0        13.0           4.0           2.0            2.0           1.0   \n",
       "1        26.0          14.0           2.0            1.0           1.0   \n",
       "2        15.0           8.0           1.0            2.0           0.0   \n",
       "3        27.0          10.0           1.0            7.0           6.0   \n",
       "4        19.0          12.0           2.0            3.0           2.0   \n",
       "\n",
       "   qtHitRightLeg  flWinner          dtCreatedAt  \n",
       "0            0.0         0  2022-01-21 19:45:44  \n",
       "1            3.0         1  2022-02-04 02:09:47  \n",
       "2            2.0         0  2021-09-18 18:07:43  \n",
       "3            6.0         1  2021-09-18 18:07:43  \n",
       "4            5.0         0  2021-09-27 00:17:45  \n",
       "\n",
       "[5 rows x 38 columns]"
      ]
     },
     "execution_count": 2,
     "metadata": {},
     "output_type": "execute_result"
    }
   ],
   "source": [
    "df.head()"
   ]
  },
  {
   "cell_type": "code",
   "execution_count": 3,
   "metadata": {
    "id": "t7_jJvfqk5Qx"
   },
   "outputs": [
    {
     "data": {
      "text/plain": [
       "184152"
      ]
     },
     "execution_count": 3,
     "metadata": {},
     "output_type": "execute_result"
    }
   ],
   "source": [
    "len(df)"
   ]
  },
  {
   "cell_type": "markdown",
   "metadata": {
    "id": "C88LB8AAdr6P"
   },
   "source": [
    "Plot % of missing values in each column"
   ]
  },
  {
   "cell_type": "code",
   "execution_count": 4,
   "metadata": {
    "id": "qsSxhcZnk5vB"
   },
   "outputs": [
    {
     "data": {
      "text/html": [
       "<div>\n",
       "<style scoped>\n",
       "    .dataframe tbody tr th:only-of-type {\n",
       "        vertical-align: middle;\n",
       "    }\n",
       "\n",
       "    .dataframe tbody tr th {\n",
       "        vertical-align: top;\n",
       "    }\n",
       "\n",
       "    .dataframe thead th {\n",
       "        text-align: right;\n",
       "    }\n",
       "</style>\n",
       "<table border=\"1\" class=\"dataframe\">\n",
       "  <thead>\n",
       "    <tr style=\"text-align: right;\">\n",
       "      <th></th>\n",
       "      <th>idLobbyGame</th>\n",
       "      <th>idPlayer</th>\n",
       "      <th>idRoom</th>\n",
       "      <th>qtKill</th>\n",
       "      <th>qtAssist</th>\n",
       "      <th>qtDeath</th>\n",
       "      <th>qtHs</th>\n",
       "      <th>qtBombeDefuse</th>\n",
       "      <th>qtBombePlant</th>\n",
       "      <th>qtTk</th>\n",
       "      <th>...</th>\n",
       "      <th>qtTrade</th>\n",
       "      <th>qtFlashAssist</th>\n",
       "      <th>qtHitHeadshot</th>\n",
       "      <th>qtHitChest</th>\n",
       "      <th>qtHitStomach</th>\n",
       "      <th>qtHitLeftAtm</th>\n",
       "      <th>qtHitRightArm</th>\n",
       "      <th>qtHitLeftLeg</th>\n",
       "      <th>qtHitRightLeg</th>\n",
       "      <th>flWinner</th>\n",
       "    </tr>\n",
       "  </thead>\n",
       "  <tbody>\n",
       "    <tr>\n",
       "      <th>count</th>\n",
       "      <td>184152.000000</td>\n",
       "      <td>184152.000000</td>\n",
       "      <td>184152.000000</td>\n",
       "      <td>184152.000000</td>\n",
       "      <td>184152.000000</td>\n",
       "      <td>184152.000000</td>\n",
       "      <td>184152.000000</td>\n",
       "      <td>184152.000000</td>\n",
       "      <td>184152.000000</td>\n",
       "      <td>184032.000000</td>\n",
       "      <td>...</td>\n",
       "      <td>183447.000000</td>\n",
       "      <td>183447.000000</td>\n",
       "      <td>183447.000000</td>\n",
       "      <td>183447.000000</td>\n",
       "      <td>183447.000000</td>\n",
       "      <td>183447.000000</td>\n",
       "      <td>183447.000000</td>\n",
       "      <td>183447.000000</td>\n",
       "      <td>183447.000000</td>\n",
       "      <td>184152.000000</td>\n",
       "    </tr>\n",
       "    <tr>\n",
       "      <th>mean</th>\n",
       "      <td>84720.886854</td>\n",
       "      <td>1361.148622</td>\n",
       "      <td>88343.226248</td>\n",
       "      <td>19.113531</td>\n",
       "      <td>3.756033</td>\n",
       "      <td>18.792459</td>\n",
       "      <td>7.640123</td>\n",
       "      <td>0.316054</td>\n",
       "      <td>1.321349</td>\n",
       "      <td>0.022463</td>\n",
       "      <td>...</td>\n",
       "      <td>3.095254</td>\n",
       "      <td>0.570012</td>\n",
       "      <td>9.642889</td>\n",
       "      <td>29.305194</td>\n",
       "      <td>13.525509</td>\n",
       "      <td>1.902511</td>\n",
       "      <td>5.106091</td>\n",
       "      <td>2.265641</td>\n",
       "      <td>2.496509</td>\n",
       "      <td>0.493766</td>\n",
       "    </tr>\n",
       "    <tr>\n",
       "      <th>std</th>\n",
       "      <td>49931.048091</td>\n",
       "      <td>784.157397</td>\n",
       "      <td>51564.451107</td>\n",
       "      <td>7.481041</td>\n",
       "      <td>2.205265</td>\n",
       "      <td>5.211614</td>\n",
       "      <td>4.042324</td>\n",
       "      <td>0.575803</td>\n",
       "      <td>1.336699</td>\n",
       "      <td>0.156566</td>\n",
       "      <td>...</td>\n",
       "      <td>1.885027</td>\n",
       "      <td>0.906774</td>\n",
       "      <td>4.769723</td>\n",
       "      <td>11.657993</td>\n",
       "      <td>7.102067</td>\n",
       "      <td>1.650325</td>\n",
       "      <td>2.924184</td>\n",
       "      <td>2.062294</td>\n",
       "      <td>2.162557</td>\n",
       "      <td>0.499962</td>\n",
       "    </tr>\n",
       "    <tr>\n",
       "      <th>min</th>\n",
       "      <td>1.000000</td>\n",
       "      <td>1.000000</td>\n",
       "      <td>1.000000</td>\n",
       "      <td>0.000000</td>\n",
       "      <td>0.000000</td>\n",
       "      <td>0.000000</td>\n",
       "      <td>0.000000</td>\n",
       "      <td>0.000000</td>\n",
       "      <td>0.000000</td>\n",
       "      <td>0.000000</td>\n",
       "      <td>...</td>\n",
       "      <td>0.000000</td>\n",
       "      <td>0.000000</td>\n",
       "      <td>0.000000</td>\n",
       "      <td>0.000000</td>\n",
       "      <td>0.000000</td>\n",
       "      <td>0.000000</td>\n",
       "      <td>0.000000</td>\n",
       "      <td>0.000000</td>\n",
       "      <td>0.000000</td>\n",
       "      <td>0.000000</td>\n",
       "    </tr>\n",
       "    <tr>\n",
       "      <th>25%</th>\n",
       "      <td>41399.750000</td>\n",
       "      <td>676.000000</td>\n",
       "      <td>43742.750000</td>\n",
       "      <td>14.000000</td>\n",
       "      <td>2.000000</td>\n",
       "      <td>16.000000</td>\n",
       "      <td>5.000000</td>\n",
       "      <td>0.000000</td>\n",
       "      <td>0.000000</td>\n",
       "      <td>0.000000</td>\n",
       "      <td>...</td>\n",
       "      <td>2.000000</td>\n",
       "      <td>0.000000</td>\n",
       "      <td>6.000000</td>\n",
       "      <td>21.000000</td>\n",
       "      <td>8.000000</td>\n",
       "      <td>1.000000</td>\n",
       "      <td>3.000000</td>\n",
       "      <td>1.000000</td>\n",
       "      <td>1.000000</td>\n",
       "      <td>0.000000</td>\n",
       "    </tr>\n",
       "    <tr>\n",
       "      <th>50%</th>\n",
       "      <td>83838.500000</td>\n",
       "      <td>1388.000000</td>\n",
       "      <td>87877.500000</td>\n",
       "      <td>19.000000</td>\n",
       "      <td>4.000000</td>\n",
       "      <td>19.000000</td>\n",
       "      <td>7.000000</td>\n",
       "      <td>0.000000</td>\n",
       "      <td>1.000000</td>\n",
       "      <td>0.000000</td>\n",
       "      <td>...</td>\n",
       "      <td>3.000000</td>\n",
       "      <td>0.000000</td>\n",
       "      <td>9.000000</td>\n",
       "      <td>28.000000</td>\n",
       "      <td>13.000000</td>\n",
       "      <td>2.000000</td>\n",
       "      <td>5.000000</td>\n",
       "      <td>2.000000</td>\n",
       "      <td>2.000000</td>\n",
       "      <td>0.000000</td>\n",
       "    </tr>\n",
       "    <tr>\n",
       "      <th>75%</th>\n",
       "      <td>127911.250000</td>\n",
       "      <td>2061.000000</td>\n",
       "      <td>133000.250000</td>\n",
       "      <td>24.000000</td>\n",
       "      <td>5.000000</td>\n",
       "      <td>22.000000</td>\n",
       "      <td>10.000000</td>\n",
       "      <td>1.000000</td>\n",
       "      <td>2.000000</td>\n",
       "      <td>0.000000</td>\n",
       "      <td>...</td>\n",
       "      <td>4.000000</td>\n",
       "      <td>1.000000</td>\n",
       "      <td>12.000000</td>\n",
       "      <td>36.000000</td>\n",
       "      <td>18.000000</td>\n",
       "      <td>3.000000</td>\n",
       "      <td>7.000000</td>\n",
       "      <td>3.000000</td>\n",
       "      <td>4.000000</td>\n",
       "      <td>1.000000</td>\n",
       "    </tr>\n",
       "    <tr>\n",
       "      <th>max</th>\n",
       "      <td>172911.000000</td>\n",
       "      <td>2716.000000</td>\n",
       "      <td>178500.000000</td>\n",
       "      <td>85.000000</td>\n",
       "      <td>24.000000</td>\n",
       "      <td>65.000000</td>\n",
       "      <td>41.000000</td>\n",
       "      <td>5.000000</td>\n",
       "      <td>12.000000</td>\n",
       "      <td>12.000000</td>\n",
       "      <td>...</td>\n",
       "      <td>20.000000</td>\n",
       "      <td>14.000000</td>\n",
       "      <td>49.000000</td>\n",
       "      <td>122.000000</td>\n",
       "      <td>77.000000</td>\n",
       "      <td>17.000000</td>\n",
       "      <td>30.000000</td>\n",
       "      <td>21.000000</td>\n",
       "      <td>22.000000</td>\n",
       "      <td>1.000000</td>\n",
       "    </tr>\n",
       "  </tbody>\n",
       "</table>\n",
       "<p>8 rows × 36 columns</p>\n",
       "</div>"
      ],
      "text/plain": [
       "         idLobbyGame       idPlayer         idRoom         qtKill  \\\n",
       "count  184152.000000  184152.000000  184152.000000  184152.000000   \n",
       "mean    84720.886854    1361.148622   88343.226248      19.113531   \n",
       "std     49931.048091     784.157397   51564.451107       7.481041   \n",
       "min         1.000000       1.000000       1.000000       0.000000   \n",
       "25%     41399.750000     676.000000   43742.750000      14.000000   \n",
       "50%     83838.500000    1388.000000   87877.500000      19.000000   \n",
       "75%    127911.250000    2061.000000  133000.250000      24.000000   \n",
       "max    172911.000000    2716.000000  178500.000000      85.000000   \n",
       "\n",
       "            qtAssist        qtDeath           qtHs  qtBombeDefuse  \\\n",
       "count  184152.000000  184152.000000  184152.000000  184152.000000   \n",
       "mean        3.756033      18.792459       7.640123       0.316054   \n",
       "std         2.205265       5.211614       4.042324       0.575803   \n",
       "min         0.000000       0.000000       0.000000       0.000000   \n",
       "25%         2.000000      16.000000       5.000000       0.000000   \n",
       "50%         4.000000      19.000000       7.000000       0.000000   \n",
       "75%         5.000000      22.000000      10.000000       1.000000   \n",
       "max        24.000000      65.000000      41.000000       5.000000   \n",
       "\n",
       "        qtBombePlant           qtTk  ...        qtTrade  qtFlashAssist  \\\n",
       "count  184152.000000  184032.000000  ...  183447.000000  183447.000000   \n",
       "mean        1.321349       0.022463  ...       3.095254       0.570012   \n",
       "std         1.336699       0.156566  ...       1.885027       0.906774   \n",
       "min         0.000000       0.000000  ...       0.000000       0.000000   \n",
       "25%         0.000000       0.000000  ...       2.000000       0.000000   \n",
       "50%         1.000000       0.000000  ...       3.000000       0.000000   \n",
       "75%         2.000000       0.000000  ...       4.000000       1.000000   \n",
       "max        12.000000      12.000000  ...      20.000000      14.000000   \n",
       "\n",
       "       qtHitHeadshot     qtHitChest   qtHitStomach   qtHitLeftAtm  \\\n",
       "count  183447.000000  183447.000000  183447.000000  183447.000000   \n",
       "mean        9.642889      29.305194      13.525509       1.902511   \n",
       "std         4.769723      11.657993       7.102067       1.650325   \n",
       "min         0.000000       0.000000       0.000000       0.000000   \n",
       "25%         6.000000      21.000000       8.000000       1.000000   \n",
       "50%         9.000000      28.000000      13.000000       2.000000   \n",
       "75%        12.000000      36.000000      18.000000       3.000000   \n",
       "max        49.000000     122.000000      77.000000      17.000000   \n",
       "\n",
       "       qtHitRightArm   qtHitLeftLeg  qtHitRightLeg       flWinner  \n",
       "count  183447.000000  183447.000000  183447.000000  184152.000000  \n",
       "mean        5.106091       2.265641       2.496509       0.493766  \n",
       "std         2.924184       2.062294       2.162557       0.499962  \n",
       "min         0.000000       0.000000       0.000000       0.000000  \n",
       "25%         3.000000       1.000000       1.000000       0.000000  \n",
       "50%         5.000000       2.000000       2.000000       0.000000  \n",
       "75%         7.000000       3.000000       4.000000       1.000000  \n",
       "max        30.000000      21.000000      22.000000       1.000000  \n",
       "\n",
       "[8 rows x 36 columns]"
      ]
     },
     "execution_count": 4,
     "metadata": {},
     "output_type": "execute_result"
    }
   ],
   "source": [
    "df.describe()"
   ]
  },
  {
   "cell_type": "code",
   "execution_count": 5,
   "metadata": {
    "id": "qsSxhcZnk5vB"
   },
   "outputs": [
    {
     "data": {
      "image/png": "[encoded data removed]",
      "text/plain": [
       "<Figure size 720x432 with 1 Axes>"
      ]
     },
     "metadata": {
      "needs_background": "light"
     },
     "output_type": "display_data"
    }
   ],
   "source": [
    "perc_missing = df.isna().sum() / len(df)\n",
    "\n",
    "plt.figure(figsize=(10, 6))\n",
    "plt.bar(perc_missing.index, perc_missing.values)\n",
    "plt.xticks(rotation=90)\n",
    "plt.xlabel(\"Column\")\n",
    "plt.ylabel(\"Percent Missing\")\n",
    "plt.title(\"Missing Values Plot\")\n",
    "plt.show()"
   ]
  },
  {
   "cell_type": "markdown",
   "metadata": {
    "id": "qsSxhcZnk5vB"
   },
   "source": [
    "In our scenario, we face a situation where less than 0.4% of any column has missing values. This is not substantial enough to drop any given column when this few values are missing. All of the columns that do have missing data are integer values, such that if imputation were to take place, we should impute with integer values as well. If it were up to me, I would impute the values using the median of the column."
   ]
  },
  {
   "cell_type": "code",
   "execution_count": 6,
   "metadata": {
    "id": "qsSxhcZnk5vB"
   },
   "outputs": [],
   "source": [
    "df = df.drop(columns=['idLobbyGame', 'idPlayer', 'idRoom', 'dtCreatedAt']) "
   ]
  },
  {
   "cell_type": "markdown",
   "metadata": {
    "id": "Sfu-N0jQeL5D"
   },
   "source": [
    "**Plot side-by-side bars of class distribtuion for each category for the categorical feature and the target categories.**"
   ]
  },
  {
   "cell_type": "code",
   "execution_count": 7,
   "metadata": {
    "id": "ZCmGclwxk6d5"
   },
   "outputs": [
    {
     "data": {
      "text/plain": [
       "<matplotlib.legend.Legend at 0x1694e7cbb80>"
      ]
     },
     "execution_count": 7,
     "metadata": {},
     "output_type": "execute_result"
    },
    {
     "data": {
      "image/png": "[encoded data removed]",
      "text/plain": [
       "<Figure size 1296x1296 with 16 Axes>"
      ]
     },
     "metadata": {
      "needs_background": "light"
     },
     "output_type": "display_data"
    }
   ],
   "source": [
    "grouped = df.groupby(['descMapName', 'flWinner']).mean()\n",
    "fig, ax = plt.subplots(4, 4, figsize=(18,18), sharex=True, sharey=True)\n",
    "groups = list(grouped.index)\n",
    "for i in range(16):\n",
    "    x = ((i + 1) // 4) - 1\n",
    "    y = ((i + 1) % 4) - 1\n",
    "    mapname = groups[i][0]\n",
    "    grouped.loc[mapname].plot.bar(legend=False, rot=90, title=mapname, ax=ax[x,y])\n",
    "fig.legend(list(grouped.columns))"
   ]
  },
  {
   "cell_type": "markdown",
   "metadata": {
    "id": "TzFoX1w5edPW"
   },
   "source": [
    "**Split the data into development and test datasets.**"
   ]
  },
  {
   "cell_type": "code",
   "execution_count": 8,
   "metadata": {
    "id": "FG0bjSZxk7K5"
   },
   "outputs": [],
   "source": [
    "from sklearn.model_selection import train_test_split\n",
    "\n",
    "targets = df['flWinner']\n",
    "df = df.drop(columns='flWinner')\n",
    "\n",
    "X_dev, X_test, y_dev, y_test = train_test_split(df, targets, test_size=0.3, random_state=23)"
   ]
  },
  {
   "cell_type": "code",
   "execution_count": null,
   "metadata": {
    "id": "FG0bjSZxk7K5"
   },
   "outputs": [],
   "source": []
  },
  {
   "cell_type": "markdown",
   "metadata": {
    "id": "FG0bjSZxk7K5"
   },
   "source": [
    "I decided to use sklearn's train test split function to split the data 70-30. The data is sufficiently large to justify the use of a split like this, and the odering of the data is such that it will not matter how the data is split. This is due to the number of maps being outweighed heavily by the number of samples, and more importantly the idea that the target variable is balanced (wins and losses)."
   ]
  },
  {
   "cell_type": "markdown",
   "metadata": {
    "id": "2grWnbK5eqmW"
   },
   "source": [
    "**Preprocess the data (Handle the Categorical Variable).**"
   ]
  },
  {
   "cell_type": "code",
   "execution_count": 9,
   "metadata": {
    "id": "mVQjLPO3k7nm"
   },
   "outputs": [],
   "source": [
    "from sklearn.preprocessing import StandardScaler, OneHotEncoder\n",
    "from sklearn.impute import SimpleImputer\n",
    "from sklearn.compose import make_column_transformer\n",
    "from sklearn.pipeline import make_pipeline\n",
    "from sklearn.tree import DecisionTreeClassifier\n",
    "\n",
    "num_features = list(set(X_dev.columns) - {'descMapName'})\n",
    "cat_feature = ['descMapName']\n",
    "\n",
    "# impute features as mentioned earlier\n",
    "median_imputer = SimpleImputer(strategy='median')\n",
    "X_dev[num_features] = median_imputer.fit_transform(X_dev[num_features])\n",
    "X_test[num_features] = median_imputer.fit_transform(X_test[num_features])\n",
    "\n",
    "preprocess = make_column_transformer((StandardScaler(), num_features),\n",
    "                                    (OneHotEncoder(), cat_feature))\n",
    "\n",
    "pipe = make_pipeline(preprocess, DecisionTreeClassifier(random_state=23))"
   ]
  },
  {
   "cell_type": "code",
   "execution_count": 10,
   "metadata": {
    "id": "mVQjLPO3k7nm"
   },
   "outputs": [
    {
     "data": {
      "text/plain": [
       "<128906x8 sparse matrix of type '<class 'numpy.float64'>'\n",
       "\twith 128906 stored elements in Compressed Sparse Row format>"
      ]
     },
     "execution_count": 10,
     "metadata": {},
     "output_type": "execute_result"
    }
   ],
   "source": [
    "onehot = OneHotEncoder()\n",
    "onehot.fit_transform(X_dev.descMapName.to_numpy().reshape(-1, 1))"
   ]
  },
  {
   "cell_type": "markdown",
   "metadata": {
    "id": "QOsjqLz8e2xo"
   },
   "source": [
    "**Fit a Decision Tree on the development data until all leaves are pure. What is the performance of the tree?**"
   ]
  },
  {
   "cell_type": "code",
   "execution_count": 11,
   "metadata": {
    "id": "xGNUFbm-k8Rk"
   },
   "outputs": [
    {
     "data": {
      "text/plain": [
       "Pipeline(steps=[('columntransformer',\n",
       "                 ColumnTransformer(transformers=[('standardscaler',\n",
       "                                                  StandardScaler(),\n",
       "                                                  ['qtFlashAssist',\n",
       "                                                   'qtHitLeftLeg', 'qt1Kill',\n",
       "                                                   'qtRoundsPlayed', 'vlLevel',\n",
       "                                                   'qt4Kill', 'qtKill',\n",
       "                                                   'qtDeath', 'qtShots',\n",
       "                                                   'qtHitStomach',\n",
       "                                                   'qtBombeDefuse', 'qtTk',\n",
       "                                                   'qtPlusKill',\n",
       "                                                   'qtHitRightLeg', 'qt5Kill',\n",
       "                                                   'qtHitChest',\n",
       "                                                   'qtHitRightArm',\n",
       "                                                   'qtLastAlive', 'vlDamage',\n",
       "                                                   'qtFirstKill', 'qtTkAssist',\n",
       "                                                   'qtHitLeftAtm', 'qtHits',\n",
       "                                                   'qtSurvived',\n",
       "                                                   'qtHitHeadshot',\n",
       "                                                   'qtBombePlant', 'qtAssist',\n",
       "                                                   'qtHs', 'qtTrade',\n",
       "                                                   'qtClutchWon', ...]),\n",
       "                                                 ('onehotencoder',\n",
       "                                                  OneHotEncoder(),\n",
       "                                                  ['descMapName'])])),\n",
       "                ('decisiontreeclassifier',\n",
       "                 DecisionTreeClassifier(random_state=23))])"
      ]
     },
     "execution_count": 11,
     "metadata": {},
     "output_type": "execute_result"
    }
   ],
   "source": [
    "pipe.fit(X_dev, y_dev)"
   ]
  },
  {
   "cell_type": "code",
   "execution_count": 12,
   "metadata": {
    "id": "xGNUFbm-k8Rk"
   },
   "outputs": [
    {
     "name": "stdout",
     "output_type": "stream",
     "text": [
      "Max Tree Depth: 37\n",
      "Train Accuracy: 1.0\n",
      "Test Accuracy: 0.7252\n"
     ]
    }
   ],
   "source": [
    "tree_results = pipe.named_steps['decisiontreeclassifier']\n",
    "max_depth = tree_results.tree_.max_depth\n",
    "\n",
    "print('Max Tree Depth:', max_depth)\n",
    "print('Train Accuracy:', pipe.score(X_dev, y_dev))\n",
    "print('Test Accuracy:', np.around(pipe.score(X_test, y_test), 4))"
   ]
  },
  {
   "cell_type": "markdown",
   "metadata": {
    "id": "xGNUFbm-k8Rk"
   },
   "source": [
    "Above, I base performance on accuracy. In decision trees, our most important measurment is error rate, especially in a balanced dataset such as this one. Another interesting metric I've added is tree depth, which can be a good indication of how many nodes were needed to crerate a pure tree.  \n",
    "In my tree model above, we see a max depth of 37, along with a train accuracy of 100% (pure tree), and a test accuracy of just 73%. This tree is showing signs of overfitting."
   ]
  },
  {
   "cell_type": "markdown",
   "metadata": {
    "id": "Y9vSrFM-fqdL"
   },
   "source": [
    "**Visualize the trained tree until the max_depth 8**"
   ]
  },
  {
   "cell_type": "code",
   "execution_count": 13,
   "metadata": {
    "id": "skZoUeXwk8sy"
   },
   "outputs": [
    {
     "data": {
      "image/png": "[encoded data removed]",
      "text/plain": [
       "<Figure size 864x864 with 1 Axes>"
      ]
     },
     "metadata": {
      "needs_background": "light"
     },
     "output_type": "display_data"
    }
   ],
   "source": [
    "from sklearn.tree import plot_tree\n",
    "\n",
    "fig = plt.figure(figsize=(12, 12))\n",
    "plot_tree(tree_results, max_depth=8)\n",
    "plt.show()"
   ]
  },
  {
   "cell_type": "markdown",
   "metadata": {
    "id": "v_5pPhS2f12o"
   },
   "source": [
    "**1.8: Prune the tree using one of the techniques discussed in class and evaluate the performance**"
   ]
  },
  {
   "cell_type": "code",
   "execution_count": 14,
   "metadata": {
    "id": "e9citpjBk9Op"
   },
   "outputs": [],
   "source": [
    "alphas = np.logspace(0.0, 0.0005, 20) - 1\n",
    "\n",
    "trees = list()\n",
    "train_scores = list()\n",
    "test_scores = list()\n",
    "for alpha in alphas:\n",
    "    pipe = make_pipeline(preprocess, DecisionTreeClassifier(random_state=23, ccp_alpha=alpha, max_depth=8))\n",
    "    pipe.fit(X_dev, y_dev)\n",
    "    trees.append(pipe.named_steps['decisiontreeclassifier'])\n",
    "    train_scores.append(pipe.score(X_dev, y_dev))\n",
    "    test_scores.append(pipe.score(X_test, y_test))"
   ]
  },
  {
   "cell_type": "code",
   "execution_count": 15,
   "metadata": {
    "id": "e9citpjBk9Op"
   },
   "outputs": [
    {
     "data": {
      "image/png": "[encoded data removed]",
      "text/plain": [
       "<Figure size 576x576 with 1 Axes>"
      ]
     },
     "metadata": {
      "needs_background": "light"
     },
     "output_type": "display_data"
    },
    {
     "data": {
      "image/png": "[encoded data removed]",
      "text/plain": [
       "<Figure size 576x576 with 1 Axes>"
      ]
     },
     "metadata": {
      "needs_background": "light"
     },
     "output_type": "display_data"
    }
   ],
   "source": [
    "plt.figure(figsize=(8, 8))\n",
    "plt.plot(alphas, [tree.tree_.node_count for tree in trees], marker='o', drawstyle='steps-post')\n",
    "# plt.xscale('log')\n",
    "plt.xlabel('alpha')\n",
    "plt.ylabel('Node Count')\n",
    "plt.title('Alpha v. Node Count')\n",
    "plt.show()\n",
    "\n",
    "plt.figure(figsize=(8, 8))\n",
    "plt.plot(alphas, train_scores, drawstyle='steps-post', marker='o', label='Train')\n",
    "plt.plot(alphas, test_scores, drawstyle='steps-post', marker='o', label='Test')\n",
    "# plt.xscale('log')\n",
    "plt.xlabel('alpha')\n",
    "plt.ylabel('accuracy')\n",
    "plt.legend()\n",
    "plt.title('Train and Test Accuracy using various alpha values')\n",
    "plt.show()"
   ]
  },
  {
   "cell_type": "markdown",
   "metadata": {
    "id": "e9citpjBk9Op"
   },
   "source": [
    "In order to get the model to generalize better, I instated a depth maximum, as well as using an alpha value for pruning my tree in an effective way. Some results above represent test and train accuracy using different alpha values."
   ]
  },
  {
   "cell_type": "markdown",
   "metadata": {
    "id": "7by9pkAJf-7p"
   },
   "source": [
    "List the top 3 most important features for this trained tree"
   ]
  },
  {
   "cell_type": "code",
   "execution_count": 44,
   "metadata": {
    "id": "iMokROlNf1P0"
   },
   "outputs": [
    {
     "name": "stdout",
     "output_type": "stream",
     "text": [
      "Using alpha 6.1e-05 for analysis.\n",
      "\n",
      "Indeces of top 3 features\n",
      "[28  7 23]\n",
      "\n",
      "Top 3 features\n",
      "1. standardscaler__qtSurvived, 2. standardscaler__qtDeath, 3. standardscaler__qtTrade\n"
     ]
    }
   ],
   "source": [
    "print('Using alpha', np.around(alphas[1], 6), 'for analysis.')\n",
    "print()\n",
    "print('Indeces of top 3 features')\n",
    "top_3_indeces = np.argsort(trees[1].feature_importances_)[-3:]\n",
    "print(top_3_indeces)\n",
    "print()\n",
    "print('Top 3 features')\n",
    "features = preprocess.get_feature_names_out()\n",
    "print('1. {}, 2. {}, 3. {}'.format(features[23], features[7], features[28]))"
   ]
  },
  {
   "cell_type": "markdown",
   "metadata": {
    "id": "iMokROlNf1P0"
   },
   "source": [
    "These features are extremely important. Death and Survivied are basically a K/D ratio, which would be in direct line with a win or a loss. Similarly, a trade represents a net even result for both teams and could be useful in determining the outcome of a match, especially at a player level (rather than a team level)."
   ]
  },
  {
   "cell_type": "markdown",
   "metadata": {
    "id": "javStHTHbHXx"
   },
   "source": [
    "### Random Forests"
   ]
  },
  {
   "cell_type": "code",
   "execution_count": 30,
   "metadata": {
    "id": "sbKTHdeRk9sr"
   },
   "outputs": [],
   "source": [
    "from sklearn.ensemble import RandomForestClassifier"
   ]
  },
  {
   "cell_type": "markdown",
   "metadata": {
    "id": "dDl3lnx6GAT1"
   },
   "source": [
    "**Train a Random Forest model on the development dataset using RandomForestClassifier class in sklearn.**"
   ]
  },
  {
   "cell_type": "code",
   "execution_count": 60,
   "metadata": {
    "id": "RlN4aOX_l2Gn"
   },
   "outputs": [
    {
     "name": "stdout",
     "output_type": "stream",
     "text": [
      "Train Score: 1.0\n",
      "Test Score: 0.7901\n"
     ]
    }
   ],
   "source": [
    "# Fit the data\n",
    "forest_pipe = make_pipeline(preprocess, RandomForestClassifier(random_state=23))\n",
    "forest_pipe.fit(X_dev, y_dev)\n",
    "\n",
    "train_score = np.around(forest_pipe.score(X_dev, y_dev), 4)\n",
    "test_score = np.around(forest_pipe.score(X_test, y_test), 4)\n",
    "print('Train Score: {}'.format(train_score))\n",
    "print('Test Score: {}'.format(test_score))"
   ]
  },
  {
   "cell_type": "markdown",
   "metadata": {
    "id": "7oSKB0j4gi2_"
   },
   "source": [
    "Out of the box, random forest classifier does perform better than the decision tree classifier from problem 1, by around 6.5%."
   ]
  },
  {
   "cell_type": "markdown",
   "metadata": {
    "id": "BQ32vtYEl3c8"
   },
   "source": [
    "All trees in the random forest model do have pure leaves, as referenced in the RandomForestClassifier documentation. We could verify this by checking training score on each independent tree, if necessary. If each individual tree had a 100% train accuracy, we would then be confident that the nodes are pure."
   ]
  },
  {
   "cell_type": "markdown",
   "metadata": {
    "id": "um21KRKDl56w"
   },
   "source": [
    "1. n_estimators - The number of trees in the forest is an interesting tradeoff of performance and time required for training. As the number of estimators rises, I'm convinced the model will give us better performance, but at what point will it not be worth it?\n",
    "2. max_depth - For a binary classification problem, waiting until all leaves aree pure is a strong signal of overfitting. Even though Random Forests tone down overfitting immensely by nature, I would like to see how performance is affected with various limitations."
   ]
  },
  {
   "cell_type": "markdown",
   "metadata": {
    "id": "qV-VeSAnl7su"
   },
   "source": [
    "1. n_estimators - Based on intuition, and the fact that the old default in sklearn was 10 and is now 100, I will train different ensembles with [10, 25, 75, 100, 250] estimators, respectively.\n",
    "2. max_depth - Based on the pure tree trained in question 1 having a maximum depth of 37, I think using values [5, 10, 15, 25, 37 (None)] will give a good split of simple to complex trees.\n",
    "\n",
    "Choosing the values would then come from training various models through a grid search, and keeping track of performance. Below, I use sklearn's GridSearchCV to find the best hyperparameters."
   ]
  },
  {
   "cell_type": "markdown",
   "metadata": {
    "id": "F4CS841Ag7YQ"
   },
   "source": [
    "**Perform model selection using the chosen values for the hyperparameters. Use cross-validation for finding the optimal hyperparameters.**"
   ]
  },
  {
   "cell_type": "code",
   "execution_count": 37,
   "metadata": {
    "id": "3BfdHWqRl8uC"
   },
   "outputs": [],
   "source": [
    "from sklearn.model_selection import GridSearchCV\n",
    "\n",
    "params = {\n",
    "    'n_estimators': [10, 25, 75, 100, 250],\n",
    "    'max_depth': [5, 10, 15, 25, None]\n",
    "}\n",
    "\n",
    "grid_pipe = make_pipeline(preprocess, GridSearchCV(RandomForestClassifier(random_state=23), param_grid = [params]))\n",
    "grid_pipe.fit(X_dev, y_dev)\n",
    "grid_results = grid_pipe.named_steps['gridsearchcv']"
   ]
  },
  {
   "cell_type": "code",
   "execution_count": 38,
   "metadata": {
    "id": "3BfdHWqRl8uC"
   },
   "outputs": [
    {
     "name": "stdout",
     "output_type": "stream",
     "text": [
      "Best Hyperparams: {'max_depth': None, 'n_estimators': 250}\n",
      "Best hold out score: 0.7925775206413259\n",
      "Test score: 0.7924193606776961\n"
     ]
    }
   ],
   "source": [
    "print('Best Hyperparams: {}'.format(grid_results.best_params_))\n",
    "print('Best hold out score: {}'.format(grid_results.best_score_))\n",
    "test_score = grid_pipe.score(X_test, y_test)\n",
    "print('Test score: {}'.format(test_score))"
   ]
  },
  {
   "cell_type": "markdown",
   "metadata": {
    "id": "GAdrafXxhBJW"
   },
   "source": [
    "**3 Most important features**"
   ]
  },
  {
   "cell_type": "code",
   "execution_count": 43,
   "metadata": {
    "id": "g3QHTi1Og60-"
   },
   "outputs": [
    {
     "name": "stdout",
     "output_type": "stream",
     "text": [
      "[18  7 23]\n",
      "\n",
      "Top 3 features\n",
      "1. standardscaler__qtSurvived, 2. standardscaler__qtDeath, 3. standardscaler__vlDamage\n"
     ]
    }
   ],
   "source": [
    "best_rf = grid_results.best_estimator_\n",
    "top_3_indeces = np.argsort(best_rf.feature_importances_)[-3:]\n",
    "print(top_3_indeces)\n",
    "print()\n",
    "print('Top 3 features')\n",
    "features = preprocess.get_feature_names_out()\n",
    "print('1. {}, 2. {}, 3. {}'.format(features[top_3_indeces[2]], features[top_3_indeces[1]], features[top_3_indeces[0]]))"
   ]
  },
  {
   "cell_type": "markdown",
   "metadata": {
    "id": "g3QHTi1Og60-"
   },
   "source": [
    "Here, survived and death are still the most important two features just like the single decision tree. The third feature, Damage, is different from Trades in question 1. In my opinion, the random forest putting more importance on Damage makes sense to me over trades, as it gives a solid overall metric of performance from player to player. Im not sure how common trades are in CS:Go, but in morst fps games trades are not a very common thing."
   ]
  },
  {
   "cell_type": "markdown",
   "metadata": {
    "id": "6ttEhHqqbOZl"
   },
   "source": [
    "### Gradient Boosted Trees"
   ]
  },
  {
   "cell_type": "markdown",
   "metadata": {
    "id": "I3CRf47poZzA"
   },
   "source": [
    "Hyperparameters to tune:\n",
    "1. max_depth [10, 15, 25]\n",
    "2. learning_rate [0.001, 0.01, 0.1, 1]\n",
    "3. min_samples_leaf [1, 2, 4]"
   ]
  },
  {
   "cell_type": "code",
   "execution_count": 52,
   "metadata": {
    "id": "I3CRf47poZzA",
    "tags": []
   },
   "outputs": [
    {
     "name": "stdout",
     "output_type": "stream",
     "text": [
      "GradientBoostingClassifier Stats\n",
      "Best Hyperparams: {'learning_rate': 0.1, 'max_depth': 10, 'min_samples_leaf': 4}\n",
      "Best hold out score: 0.7975191052014472\n",
      "Test score: 0.7974151974803606\n",
      "Training Time: 11909.4574\n",
      "\n",
      "HistGradientBoostingClassifier Stats\n",
      "Best Hyperparams: {'learning_rate': 0.1, 'max_depth': 15, 'min_samples_leaf': 2}\n",
      "Best hold out score: 0.7969295261338702\n",
      "Test score: 0.7958223219780618\n",
      "Training Time: 124.2274\n"
     ]
    }
   ],
   "source": [
    "from sklearn.ensemble import GradientBoostingClassifier, HistGradientBoostingClassifier\n",
    "import time\n",
    "\n",
    "params = {\n",
    "    'max_depth': [10, 15, 25],\n",
    "    'learning_rate': np.logspace(-3, 0, 4),\n",
    "    'min_samples_leaf': [1, 2, 4]\n",
    "}\n",
    "\n",
    "gbc_pipe = make_pipeline(preprocess,\n",
    "                         GridSearchCV(GradientBoostingClassifier(random_state=23, n_estimators=40),\n",
    "                                      param_grid = [params], cv=5))\n",
    "hgbc_pipe = make_pipeline(preprocess,\n",
    "                          GridSearchCV(HistGradientBoostingClassifier(random_state=23, max_iter=40),\n",
    "                                       param_grid = [params], cv=5))\n",
    "\n",
    "gbc_start = time.time()\n",
    "gbc_pipe.fit(X_dev, y_dev)\n",
    "gbc_time = time.time() - gbc_start\n",
    "gbc_results = gbc_pipe.named_steps['gridsearchcv']\n",
    "print('GradientBoostingClassifier Stats')\n",
    "print('Best Hyperparams: {}'.format(gbc_results.best_params_))\n",
    "print('Best hold out score: {}'.format(gbc_results.best_score_))\n",
    "gbc_test_score = gbc_pipe.score(X_test, y_test)\n",
    "print('Test score: {}'.format(gbc_test_score))\n",
    "print('Training Time: {}'.format(np.around(gbc_time, 4)))\n",
    "print()\n",
    "hgbc_start = time.time()\n",
    "hgbc_pipe.fit(X_dev, y_dev)\n",
    "hgbc_time = time.time() - hgbc_start\n",
    "hgbc_results = hgbc_pipe.named_steps['gridsearchcv']\n",
    "print('HistGradientBoostingClassifier Stats')\n",
    "print('Best Hyperparams: {}'.format(hgbc_results.best_params_))\n",
    "print('Best hold out score: {}'.format(hgbc_results.best_score_))\n",
    "hgbc_test_score = hgbc_pipe.score(X_test, y_test)\n",
    "print('Test score: {}'.format(hgbc_test_score))\n",
    "print('Training Time: {}'.format(np.around(hgbc_time, 4)))"
   ]
  },
  {
   "cell_type": "markdown",
   "metadata": {
    "id": "I3CRf47poZzA",
    "tags": []
   },
   "source": [
    "As seen above, the training time when using the histogram assisted algorithm was magnitudes faster than the regular GradientBoostingClassifier, with test performance only showing a disparity of <0.2%."
   ]
  },
  {
   "cell_type": "markdown",
   "metadata": {
    "id": "aoOLJ1SJhRaF"
   },
   "source": [
    "**Train an XGBoost model by tuning 3 hyperparameters using 5 fold cross-validation.**"
   ]
  },
  {
   "cell_type": "markdown",
   "metadata": {
    "id": "Cihn4VkqoaMQ"
   },
   "source": [
    "Hyperparamters to tune.\n",
    "1. max_depth [5, 10, 15]\n",
    "2. learning_rate [0.001, 0.01, 0.1, 1]\n",
    "3. grow_policy [0, 1]"
   ]
  },
  {
   "cell_type": "code",
   "execution_count": 55,
   "metadata": {
    "id": "Cihn4VkqoaMQ"
   },
   "outputs": [
    {
     "name": "stdout",
     "output_type": "stream",
     "text": [
      "XGBClassifier Stats\n",
      "Best Hyperparams: {'grow_policy': 'depthwise', 'learning_rate': 0.1, 'max_depth': 5}\n",
      "Best hold out score: 0.8018168155621428\n",
      "Test score: 0.8006552510589002\n",
      "Training Time: 1660.3696\n"
     ]
    }
   ],
   "source": [
    "from xgboost import XGBClassifier\n",
    "import warnings\n",
    "warnings.filterwarnings('ignore', category=UserWarning)\n",
    "\n",
    "params = {\n",
    "    'max_depth': [5, 10, 15],\n",
    "    'learning_rate': np.logspace(-3, 0, 4),\n",
    "    'grow_policy': ['depthwise', 'lossguide']\n",
    "}\n",
    "\n",
    "xgb_pipe = make_pipeline(preprocess,\n",
    "                         GridSearchCV(XGBClassifier(random_state=23, tree_method='gpu_hist', eval_metric='logloss'),\n",
    "                                      param_grid = [params], cv=5))\n",
    "\n",
    "xgb_start = time.time()\n",
    "xgb_pipe.fit(X_dev, y_dev)\n",
    "xgb_time = time.time() - xgb_start\n",
    "xgb_results = xgb_pipe.named_steps['gridsearchcv']\n",
    "print('XGBClassifier Stats')\n",
    "print('Best Hyperparams: {}'.format(xgb_results.best_params_))\n",
    "print('Best hold out score: {}'.format(xgb_results.best_score_))\n",
    "xgb_test_score = xgb_pipe.score(X_test, y_test)\n",
    "print('Test score: {}'.format(xgb_test_score))\n",
    "print('Training Time: {}'.format(np.around(xgb_time, 4)))"
   ]
  },
  {
   "cell_type": "markdown",
   "metadata": {
    "id": "EvUUJPhkhneh"
   },
   "source": [
    "We see a marginal increase in test performance coming out of the XGBClassifier. Interestingly, the learning rate for all three of the trained models in question three is the most optimal choice at 0.1. Finally, the training time above is reasonable for the performance boost, however I have an nvidia 3080, and as such cannot draw many conclusions from CPU process to GPU processing as is the case here."
   ]
  },
  {
   "cell_type": "markdown",
   "metadata": {
    "id": "EvUUJPhkhneh"
   },
   "source": [
    "**Boosting models comparison**"
   ]
  },
  {
   "cell_type": "code",
   "execution_count": 62,
   "metadata": {
    "id": "KFlxuwWMoa35"
   },
   "outputs": [
    {
     "name": "stdout",
     "output_type": "stream",
     "text": [
      "Test Results\n",
      "\n",
      "DecisionTreeClassifier: 0.7252\n",
      "RandomForestClassifier: 0.7901\n",
      "GradientBoostingClassifier: 0.7974\n",
      "HistGradientBoostingClassifier: 0.7958\n",
      "XGBClassifier: 0.8007\n",
      "\n",
      "Worst-Best Difference (DecisionTreeClassifier vs. XGBClassifier)\n",
      "0.0755\n"
     ]
    }
   ],
   "source": [
    "print('Test Results')\n",
    "print()\n",
    "print('DecisionTreeClassifier: {}'.format(0.7252))\n",
    "print('RandomForestClassifier: {}'.format(np.around(test_score, 4)))\n",
    "print('GradientBoostingClassifier: {}'.format(np.around(gbc_test_score, 4)))\n",
    "print('HistGradientBoostingClassifier: {}'.format(np.around(hgbc_test_score, 4)))\n",
    "print('XGBClassifier: {}'.format(np.around(xgb_test_score, 4)))\n",
    "print()\n",
    "print('Worst-Best Difference (DecisionTreeClassifier vs. XGBClassifier)')\n",
    "print(np.around(xgb_test_score - 0.7252, 4))"
   ]
  },
  {
   "cell_type": "markdown",
   "metadata": {
    "id": "bLzaOv8khtiz"
   },
   "source": [
    "I would choose to use the XGBClassifier. In my opinion, the boost in results warrants the longer training time, especially when trying to predict the outcome of a high number of matches. A close second, and worth considering, is the HistGradientBoostingClassifier. Using the histogram splitting method allows the algorithm to run very quickly (still 10x faster than XGBoost on a GPU) without a >0.5% drop in performance. When it comes to prototyping, HistGradientBoostingClassifier may be the way to go to quickly test new features."
   ]
  },
  {
   "cell_type": "markdown",
   "metadata": {
    "id": "bLzaOv8khtiz"
   },
   "source": [
    "**Top 3 features from the trained XGBoost model**"
   ]
  },
  {
   "cell_type": "code",
   "execution_count": 67,
   "metadata": {
    "id": "Id887PsdobRs"
   },
   "outputs": [
    {
     "name": "stdout",
     "output_type": "stream",
     "text": [
      "[28  7 23]\n",
      "\n",
      "Top 3 features\n",
      "1. standardscaler__qtSurvived, 2. standardscaler__qtDeath, 3. standardscaler__qtTrade\n"
     ]
    }
   ],
   "source": [
    "best_xgb = xgb_results.best_estimator_\n",
    "top_3_xgb = np.argsort(best_xgb.feature_importances_)[-3:]\n",
    "print(top_3_xgb)\n",
    "print()\n",
    "print('Top 3 features')\n",
    "features = preprocess.get_feature_names_out()\n",
    "print('1. {}, 2. {}, 3. {}'.format(features[top_3_xgb[2]], features[top_3_xgb[1]], features[top_3_xgb[0]]))"
   ]
  },
  {
   "cell_type": "markdown",
   "metadata": {
    "id": "u13rx2hyhz3t"
   },
   "source": [
    "Out of the box, I would say that XGBoost should be the most trustworthy. Not only does it have the top performance, but it is also closer to being the state-of-the-art algorithm in comparison to the regular decision tree and still old random forest.\n",
    "\n",
    "More technically, the idea behind gradient boosting is that each subsequent tree takes into account the residuals of the tree before it, thus leading me to believe it can understand what is more important very effectively.\n",
    "\n",
    "The features above are shared with DecisionTreeClassifer, but my top performing RandomForestClassifier has a different 3rd most important feature."
   ]
  },
  {
   "cell_type": "markdown",
   "metadata": {
    "id": "u13rx2hyhz3t"
   },
   "source": [
    "**Top 7 features (as given by feature importances from XGBoost)**"
   ]
  },
  {
   "cell_type": "code",
   "execution_count": 74,
   "metadata": {
    "id": "uMum69ypobrp"
   },
   "outputs": [
    {
     "name": "stdout",
     "output_type": "stream",
     "text": [
      "XGBClassifier Stats\n",
      "Best Hyperparams: {'grow_policy': 'depthwise', 'learning_rate': 0.1, 'max_depth': 5}\n",
      "Best hold out score: 0.7990628642068871\n",
      "Test score: 0.7974876009122832\n",
      "Training Time: 1257.9567\n"
     ]
    }
   ],
   "source": [
    "top_7 = np.argsort(best_xgb.feature_importances_)[-7:]\n",
    "top_features = [features[i].split('__')[1] for i in list(top_7)]\n",
    "\n",
    "X7_dev = X_dev[top_features]\n",
    "X7_test = X_test[top_features]\n",
    "\n",
    "params = {\n",
    "    'max_depth': [5, 10, 15],\n",
    "    'learning_rate': np.logspace(-3, 0, 4),\n",
    "    'grow_policy': ['depthwise', 'lossguide']\n",
    "}\n",
    "\n",
    "preprocess7 = make_column_transformer((StandardScaler(), top_features))\n",
    "\n",
    "\n",
    "\n",
    "xgb7_pipe = make_pipeline(preprocess7,\n",
    "                          GridSearchCV(XGBClassifier(random_state=23, tree_method='gpu_hist', eval_metric='logloss'),\n",
    "                                      param_grid = [params], cv=5))\n",
    "\n",
    "xgb7_start = time.time()\n",
    "xgb7_pipe.fit(X7_dev, y_dev)\n",
    "xgb7_time = time.time() - xgb7_start\n",
    "xgb7_results = xgb7_pipe.named_steps['gridsearchcv']\n",
    "print('XGBClassifier Stats')\n",
    "print('Best Hyperparams: {}'.format(xgb7_results.best_params_))\n",
    "print('Best hold out score: {}'.format(xgb7_results.best_score_))\n",
    "xgb7_test_score = xgb7_pipe.score(X7_test, y_test)\n",
    "print('Test score: {}'.format(xgb7_test_score))\n",
    "print('Training Time: {}'.format(np.around(xgb7_time, 4)))"
   ]
  },
  {
   "cell_type": "code",
   "execution_count": 76,
   "metadata": {
    "id": "uMum69ypobrp"
   },
   "outputs": [
    {
     "name": "stdout",
     "output_type": "stream",
     "text": [
      "XGBoost Test Performance Difference\n",
      "All Features - Top 7 Features: 0.0032\n"
     ]
    }
   ],
   "source": [
    "print('XGBoost Test Performance Difference')\n",
    "print('All Features - Top 7 Features: {}'.format(np.around(xgb_test_score - xgb7_test_score, 4)))"
   ]
  },
  {
   "cell_type": "markdown",
   "metadata": {
    "id": "uMum69ypobrp"
   },
   "source": [
    "As shown above, the XGBoost classifier that uses all of the features performs just a little better (about 0.3%) than the classifier that only uses the top 7 most important features. This is due to the nature of XGBoost. The algorithm essentially does feature selection for you through its boosting process, so keeping the features as a part of the input allows the algorithm to use them if necessary to improve the output, as seen here."
   ]
  },
  {
   "cell_type": "markdown",
   "metadata": {
    "id": "NEEmj4qsbnJ6"
   },
   "source": [
    "### Calibration"
   ]
  },
  {
   "cell_type": "markdown",
   "metadata": {
    "id": "4avkwE8sGFhB"
   },
   "source": [
    "**Estimate the brier score for the XGBoost model scored on the test dataset.**"
   ]
  },
  {
   "cell_type": "code",
   "execution_count": 85,
   "metadata": {
    "id": "MIVBqrqrocKr"
   },
   "outputs": [
    {
     "name": "stdout",
     "output_type": "stream",
     "text": [
      "Estimated Brier Score: 0.1306606640197135\n"
     ]
    }
   ],
   "source": [
    "from sklearn.metrics import brier_score_loss\n",
    "\n",
    "pos_probs = xgb_pipe.predict_proba(X_test)[:, 1]\n",
    "brier_score = brier_score_loss(y_test, pos_probs)\n",
    "print('Estimated Brier Score: {}'.format(brier_score))"
   ]
  },
  {
   "cell_type": "markdown",
   "metadata": {
    "id": "k8J-WzSvh-i0"
   },
   "source": [
    "**Calibrate the trained XGBoost model using isotonic regression as well as Platt scaling. Plot predicted v.s. actual on test datasets from both the calibration methods**"
   ]
  },
  {
   "cell_type": "code",
   "execution_count": 89,
   "metadata": {
    "id": "VZJiSfhcocsn"
   },
   "outputs": [
    {
     "name": "stdout",
     "output_type": "stream",
     "text": [
      "Calibration Complete\n"
     ]
    }
   ],
   "source": [
    "from sklearn.calibration import CalibratedClassifierCV\n",
    "\n",
    "# grab best model\n",
    "uncal_xgb = xgb_results.best_estimator_\n",
    "# calibrate with isotonic\n",
    "iso_calibrated_xgb = make_pipeline(preprocess,\n",
    "                                   CalibratedClassifierCV(uncal_xgb, method='isotonic', cv=5))\n",
    "iso_calibrated_xgb.fit(X_dev, y_dev)\n",
    "#calibrate with platt (sigmoid)\n",
    "platt_calibrated_xgb = make_pipeline(preprocess, \n",
    "                                     CalibratedClassifierCV(uncal_xgb, method='sigmoid', cv=5))\n",
    "platt_calibrated_xgb.fit(X_dev, y_dev)\n",
    "print('Calibration Complete')"
   ]
  },
  {
   "cell_type": "code",
   "execution_count": 98,
   "metadata": {
    "id": "VZJiSfhcocsn"
   },
   "outputs": [
    {
     "data": {
      "image/png": "[encoded data removed]",
      "text/plain": [
       "<Figure size 1008x432 with 2 Axes>"
      ]
     },
     "metadata": {
      "needs_background": "light"
     },
     "output_type": "display_data"
    }
   ],
   "source": [
    "from sklearn.calibration import CalibrationDisplay\n",
    "\n",
    "fig, ax = plt.subplots(1,2, figsize=(14, 6))\n",
    "iso_display = CalibrationDisplay.from_estimator(iso_calibrated_xgb, X_test, y_test, n_bins=10, name='Isotonic Cal. XGBoost', ax=ax[0])\n",
    "platt_display = CalibrationDisplay.from_estimator(platt_calibrated_xgb, X_test, y_test, n_bins=10, name='Platt Cal. XGBoost', ax=ax[1])\n",
    "plt.show()"
   ]
  },
  {
   "cell_type": "markdown",
   "metadata": {
    "id": "_BufbZfmiCjc"
   },
   "source": [
    "**Report brier scores from both the calibration methods.**"
   ]
  },
  {
   "cell_type": "code",
   "execution_count": 93,
   "metadata": {
    "id": "cLwrHlRXodI8"
   },
   "outputs": [
    {
     "name": "stdout",
     "output_type": "stream",
     "text": [
      "ISOTONIC - Estimated Brier Score: 0.13047304850108266\n",
      "PLATT - Estimated Brier Score: 0.13233802862981858\n",
      "\n",
      "Change in Brier Score\n",
      "Original - Isotonic: 0.0001876155186308348\n",
      "Original - Platt: -0.001677364610105092\n"
     ]
    }
   ],
   "source": [
    "pos_probs_iso = iso_calibrated_xgb.predict_proba(X_test)[:, 1]\n",
    "brier_score_iso = brier_score_loss(y_test, pos_probs_iso)\n",
    "print('ISOTONIC - Estimated Brier Score: {}'.format(brier_score_iso))\n",
    "\n",
    "pos_probs_platt = platt_calibrated_xgb.predict_proba(X_test)[:, 1]\n",
    "brier_score_platt = brier_score_loss(y_test, pos_probs_platt)\n",
    "print('PLATT - Estimated Brier Score: {}'.format(brier_score_platt))\n",
    "print()\n",
    "print('Change in Brier Score')\n",
    "print('Original - Isotonic: {}'.format(brier_score - brier_score_iso))\n",
    "print('Original - Platt: {}'.format(brier_score - brier_score_platt))"
   ]
  },
  {
   "cell_type": "markdown",
   "metadata": {},
   "source": [
    "The isotonic calibration method helped our algorithm be a little more 'sure of itself', but the platt method ended up bringing in a touch more uncertainty."
   ]
  }
 ],
 "metadata": {
  "colab": {
   "collapsed_sections": [],
   "name": "AML_Homework_2.ipynb",
   "provenance": []
  },
  "kernelspec": {
   "display_name": "Python 3.9.12 ('tf-gpu')",
   "language": "python",
   "name": "python3"
  },
  "language_info": {
   "codemirror_mode": {
    "name": "ipython",
    "version": 3
   },
   "file_extension": ".py",
   "mimetype": "text/x-python",
   "name": "python",
   "nbconvert_exporter": "python",
   "pygments_lexer": "ipython3",
   "version": "3.9.12"
  },
  "vscode": {
   "interpreter": {
    "hash": "1c9ece6d5e3a61ef188a80f993fe2bc31561efaaa1bfc5da7794f01208afce4e"
   }
  }
 },
 "nbformat": 4,
 "nbformat_minor": 4
}
